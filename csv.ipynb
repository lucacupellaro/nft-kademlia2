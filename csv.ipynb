{
 "cells": [
  {
   "cell_type": "code",
   "execution_count": 1,
   "id": "5baaa687",
   "metadata": {},
   "outputs": [
    {
     "ename": "ModuleNotFoundError",
     "evalue": "No module named 'kagglehub'",
     "output_type": "error",
     "traceback": [
      "\u001b[0;31m---------------------------------------------------------------------------\u001b[0m",
      "\u001b[0;31mModuleNotFoundError\u001b[0m                       Traceback (most recent call last)",
      "Cell \u001b[0;32mIn[1], line 1\u001b[0m\n\u001b[0;32m----> 1\u001b[0m \u001b[38;5;28;01mimport\u001b[39;00m \u001b[38;5;21;01mkagglehub\u001b[39;00m\n\u001b[1;32m      2\u001b[0m \u001b[38;5;28;01mimport\u001b[39;00m \u001b[38;5;21;01mpandas\u001b[39;00m \u001b[38;5;28;01mas\u001b[39;00m \u001b[38;5;21;01mpd\u001b[39;00m\n\u001b[1;32m      3\u001b[0m \u001b[38;5;28;01mimport\u001b[39;00m \u001b[38;5;21;01mos\u001b[39;00m\n",
      "\u001b[0;31mModuleNotFoundError\u001b[0m: No module named 'kagglehub'"
     ]
    }
   ],
   "source": [
    "import kagglehub\n",
    "import pandas as pd\n",
    "import os\n",
    "\n",
    "# Scarica il dataset\n",
    "path = kagglehub.dataset_download(\"nenamalikah/nft-collections-by-sales-volume\")\n",
    "\n",
    "print(\"Path to dataset files:\", path)\n",
    "\n",
    "# Trova il file CSV nella cartella scaricata\n",
    "for file in os.listdir(path):\n",
    "    if file.endswith(\".csv\"):\n",
    "        csv_file = os.path.join(path, file)\n",
    "        break\n",
    "\n",
    "# Leggi il CSV e stampa le prime 5 righe\n",
    "df = pd.read_csv(csv_file)\n",
    "print(df.head(5))\n"
   ]
  },
  {
   "cell_type": "code",
   "execution_count": 5,
   "id": "4bd10b08",
   "metadata": {},
   "outputs": [],
   "source": [
    "import matplotlib.pyplot as plt\n",
    "import seaborn as sns\n",
    "import os \n",
    "import numpy as np"
   ]
  },
  {
   "cell_type": "code",
   "execution_count": 2,
   "id": "d2b383bd",
   "metadata": {},
   "outputs": [
    {
     "ename": "NameError",
     "evalue": "name 'df' is not defined",
     "output_type": "error",
     "traceback": [
      "\u001b[0;31m---------------------------------------------------------------------------\u001b[0m",
      "\u001b[0;31mNameError\u001b[0m                                 Traceback (most recent call last)",
      "Cell \u001b[0;32mIn[2], line 1\u001b[0m\n\u001b[0;32m----> 1\u001b[0m \u001b[38;5;28mprint\u001b[39m(df\u001b[38;5;241m.\u001b[39mcolumns)\n",
      "\u001b[0;31mNameError\u001b[0m: name 'df' is not defined"
     ]
    }
   ],
   "source": [
    "print(df.columns)"
   ]
  },
  {
   "cell_type": "code",
   "execution_count": 9,
   "id": "67dc4e43",
   "metadata": {},
   "outputs": [],
   "source": [
    "out_dir = \"SDCC/kademlia-nft/plots\"\n",
    "os.makedirs(out_dir, exist_ok=True)"
   ]
  },
  {
   "cell_type": "code",
   "execution_count": 22,
   "id": "2cc337fe",
   "metadata": {},
   "outputs": [
    {
     "name": "stdout",
     "output_type": "stream",
     "text": [
      "SDCC/kademlia-nft/data/node2: 214 file .json\n",
      "SDCC/kademlia-nft/data/node3: 82 file .json\n",
      "SDCC/kademlia-nft/data/node4: 164 file .json\n",
      "SDCC/kademlia-nft/data/node5: 116 file .json\n",
      "SDCC/kademlia-nft/data/node6: 215 file .json\n",
      "SDCC/kademlia-nft/data/node7: 148 file .json\n",
      "SDCC/kademlia-nft/data/node8: 148 file .json\n",
      "SDCC/kademlia-nft/data/node9: 206 file .json\n",
      "SDCC/kademlia-nft/data/node10: 212 file .json\n",
      "SDCC/kademlia-nft/data/node11: 109 file .json\n",
      "SDCC/kademlia-nft/data/node12: 79 file .json\n",
      "SDCC/kademlia-nft/data/node13: 95 file .json\n",
      "SDCC/kademlia-nft/data/node14: 0 file .json\n",
      "SDCC/kademlia-nft/data/node15: 0 file .json\n",
      "SDCC/kademlia-nft/data/node16: 0 file .json\n",
      "SDCC/kademlia-nft/data/node17: 0 file .json\n",
      "SDCC/kademlia-nft/data/node18: 0 file .json\n",
      "SDCC/kademlia-nft/data/node19: 0 file .json\n",
      "SDCC/kademlia-nft/data/node20: 0 file .json\n",
      "SDCC/kademlia-nft/data/node21: 0 file .json\n",
      "SDCC/kademlia-nft/data/node22: 0 file .json\n",
      "SDCC/kademlia-nft/data/node23: 0 file .json\n",
      "SDCC/kademlia-nft/data/node24: 0 file .json\n",
      "SDCC/kademlia-nft/data/node25: 0 file .json\n",
      "[214, 82, 164, 116, 215, 148, 148, 206, 212, 109, 79, 95]\n",
      "la somma è: 1788\n",
      "✅ Salvato in: /home/luca/plots/grafico2.png\n"
     ]
    },
    {
     "data": {
      "text/plain": [
       "'/home/luca/plots/grafico2.png'"
      ]
     },
     "execution_count": 22,
     "metadata": {},
     "output_type": "execute_result"
    }
   ],
   "source": [
    "from pathlib import Path\n",
    "base = Path(\"SDCC/kademlia-nft/data\")\n",
    "prefix = \"node\"\n",
    "start, end = 2, 25\n",
    "\n",
    "nfile=[]\n",
    "for t in range(start, end + 1):\n",
    "    folder = base / f\"{prefix}{t}\"    # togli \"/node\" se non serve\n",
    "    n_json = sum(1 for _ in folder.rglob(\"*.json\")) if folder.exists() else 0\n",
    "    nfile.append(n_json)\n",
    "    print(f\"{folder}: {n_json} file .json\")\n",
    "\n",
    "\n",
    "\n",
    "ct = 0\n",
    "for t in nfile:\n",
    "    if t == 0:\n",
    "        ct += 1\n",
    "if ct > 0:\n",
    "    del nfile[-ct:] \n",
    "print(nfile)\n",
    "\n",
    "print(\"la somma è:\", sum(nfile))\n",
    "\n",
    "plot_istogramma(nfile)"
   ]
  },
  {
   "cell_type": "code",
   "execution_count": 23,
   "id": "cfbd0f51",
   "metadata": {},
   "outputs": [],
   "source": [
    "import os\n",
    "import numpy as np\n",
    "import matplotlib.pyplot as plt\n",
    "import seaborn as sns\n",
    "\n",
    "def plot_istogramma(\n",
    "    vec,\n",
    "    title=\"Frequenza delle risorse per ciascun nodo con K=3\",\n",
    "    xlabel=\"Nodi \",\n",
    "    ylabel=\"Frequenza\",\n",
    "    name=\"grafico2.png\",\n",
    "    out_dir=\"plots\",\n",
    "    x_start_label=2,\n",
    "    x_range=None,\n",
    "    show=False\n",
    "):\n",
    "    # 1) Prepara cartella e path\n",
    "    os.makedirs(out_dir, exist_ok=True)\n",
    "    out_path = os.path.abspath(os.path.join(out_dir, name))\n",
    "\n",
    "    # 2) Prepara dati (posizioni e etichette)\n",
    "    n = len(vec)\n",
    "    positions = np.arange(n)\n",
    "    labels = np.arange(x_start_label, x_start_label + n)\n",
    "\n",
    "    # 3) Plot (salveremo PRIMA di eventuale show)\n",
    "    sns.set_theme(style=\"whitegrid\")\n",
    "    fig, ax = plt.subplots()\n",
    "    sns.barplot(x=positions, y=vec, ax=ax, errorbar=None)\n",
    "\n",
    "    ax.set_title(title)\n",
    "    ax.set_xlabel(xlabel)\n",
    "    ax.set_ylabel(ylabel)\n",
    "    ax.set_xticks(positions)\n",
    "    ax.set_xticklabels(labels)\n",
    "\n",
    "    if x_range is not None:\n",
    "        left_label, right_label = x_range\n",
    "        left_pos  = left_label - x_start_label - 0.5\n",
    "        right_pos = right_label - x_start_label + 0.5\n",
    "        ax.set_xlim(left_pos, right_pos)\n",
    "    else:\n",
    "        ax.set_xlim(-0.5, n - 0.5)\n",
    "\n",
    "    fig.tight_layout()\n",
    "\n",
    "    # 4) Salva PRIMA di mostrare\n",
    "    fig.savefig(out_path, dpi=300, bbox_inches=\"tight\")\n",
    "\n",
    "    # 5) Verifica\n",
    "    if not os.path.exists(out_path):\n",
    "        print(f\"⚠️ Non trovato dopo il salvataggio: {out_path}\")\n",
    "    else:\n",
    "        print(f\"✅ Salvato in: {out_path}\")\n",
    "\n",
    "    if show:\n",
    "        plt.show()\n",
    "    plt.close(fig)\n",
    "\n",
    "    return out_path\n"
   ]
  }
 ],
 "metadata": {
  "kernelspec": {
   "display_name": "Python 3 (ipykernel)",
   "language": "python",
   "name": "python3"
  },
  "language_info": {
   "codemirror_mode": {
    "name": "ipython",
    "version": 3
   },
   "file_extension": ".py",
   "mimetype": "text/x-python",
   "name": "python",
   "nbconvert_exporter": "python",
   "pygments_lexer": "ipython3",
   "version": "3.10.16"
  }
 },
 "nbformat": 4,
 "nbformat_minor": 5
}
