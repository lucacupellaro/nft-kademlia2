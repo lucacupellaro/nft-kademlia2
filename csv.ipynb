{
 "cells": [
  {
   "cell_type": "code",
   "execution_count": 1,
   "id": "5baaa687",
   "metadata": {},
   "outputs": [
    {
     "name": "stdout",
     "output_type": "stream",
     "text": [
      "Warning: Looks like you're using an outdated `kagglehub` version (installed: 0.3.12), please consider upgrading to the latest version (0.3.13).\n",
      "Path to dataset files: /home/luca/.cache/kagglehub/datasets/nenamalikah/nft-collections-by-sales-volume/versions/2\n",
      "   Index                               Name    Volume    Volume_USD  \\\n",
      "0      0                      basis.markets  27256.63  4.001818e+06   \n",
      "1      1               Skeleton Crew Skulls  11381.25  1.670995e+06   \n",
      "2      2                           Flippies   6732.19  9.884201e+05   \n",
      "3      3  Meerkat Millionaires Country Club   3734.76  5.483375e+05   \n",
      "4      4                      Stylish Studs   3191.15  4.685246e+05   \n",
      "\n",
      "    Market_Cap  Market_Cap_USD  Sales  Floor_Price  Floor_Price_USD  \\\n",
      "0   708.145455    103969.91560    366        39.50        5799.3900   \n",
      "1   106.656000     15659.23392   2075         0.67          98.3694   \n",
      "2  1663.863158    244288.38880   1504         0.80         117.4560   \n",
      "3    90.275000     13254.17550    395         3.79         556.4478   \n",
      "4   165.000000     24225.30000    729         4.30         631.3260   \n",
      "\n",
      "   Average_Price  Average_Price_USD  Owners  Assets  Owner_Asset_Ratio  \\\n",
      "0      74.471667       10933.930100      12      16              75.00   \n",
      "1       5.484940         805.298855     103     132              78.03   \n",
      "2       4.476190         657.194239     905    1638              55.25   \n",
      "3       9.455089        1388.196109      19      23              82.61   \n",
      "4       4.377435         642.694984      28      50              56.00   \n",
      "\n",
      "                         Category                            Website  \\\n",
      "0  Collectibles,Digital,Privilege             https://basis.markets/   \n",
      "1                             NaN          https://skeletoncrew.rip/   \n",
      "2                             NaN          https://www.flippies.art/   \n",
      "3                             NaN  https://meerkatmillionaires.club/   \n",
      "4                             NaN            https://stylishstuds.io   \n",
      "\n",
      "                                                Logo  \n",
      "0  https://content.solsea.io/files/thumbnail/1636...  \n",
      "1  https://content.solsea.io/files/thumbnail/1633...  \n",
      "2  https://content.solsea.io/files/thumbnail/1632...  \n",
      "3  https://content.solsea.io/files/thumbnail/1632...  \n",
      "4  https://content.solsea.io/files/thumbnail/1632...  \n"
     ]
    }
   ],
   "source": [
    "import kagglehub\n",
    "import pandas as pd\n",
    "import os\n",
    "\n",
    "# Scarica il dataset\n",
    "path = kagglehub.dataset_download(\"nenamalikah/nft-collections-by-sales-volume\")\n",
    "\n",
    "print(\"Path to dataset files:\", path)\n",
    "\n",
    "# Trova il file CSV nella cartella scaricata\n",
    "for file in os.listdir(path):\n",
    "    if file.endswith(\".csv\"):\n",
    "        csv_file = os.path.join(path, file)\n",
    "        break\n",
    "\n",
    "# Leggi il CSV e stampa le prime 5 righe\n",
    "df = pd.read_csv(csv_file)\n",
    "print(df.head(5))\n"
   ]
  },
  {
   "cell_type": "code",
   "execution_count": 2,
   "id": "d2b383bd",
   "metadata": {},
   "outputs": [
    {
     "name": "stdout",
     "output_type": "stream",
     "text": [
      "Index(['Index', 'Name', 'Volume', 'Volume_USD', 'Market_Cap', 'Market_Cap_USD',\n",
      "       'Sales', 'Floor_Price', 'Floor_Price_USD', 'Average_Price',\n",
      "       'Average_Price_USD', 'Owners', 'Assets', 'Owner_Asset_Ratio',\n",
      "       'Category', 'Website', 'Logo'],\n",
      "      dtype='object')\n"
     ]
    }
   ],
   "source": [
    "print(df.columns)"
   ]
  },
  {
   "cell_type": "code",
   "execution_count": 3,
   "id": "099eeeaf",
   "metadata": {},
   "outputs": [
    {
     "name": "stdout",
     "output_type": "stream",
     "text": [
      "592\n"
     ]
    }
   ],
   "source": [
    "print(len(df))"
   ]
  },
  {
   "cell_type": "code",
   "execution_count": 6,
   "id": "2cc337fe",
   "metadata": {},
   "outputs": [
    {
     "name": "stdout",
     "output_type": "stream",
     "text": [
      "SDCC/kademlia-nft/data/node2: 138 file .json\n",
      "SDCC/kademlia-nft/data/node3: 69 file .json\n",
      "SDCC/kademlia-nft/data/node4: 88 file .json\n",
      "SDCC/kademlia-nft/data/node5: 77 file .json\n",
      "SDCC/kademlia-nft/data/node6: 145 file .json\n",
      "SDCC/kademlia-nft/data/node7: 148 file .json\n",
      "SDCC/kademlia-nft/data/node8: 148 file .json\n",
      "SDCC/kademlia-nft/data/node9: 138 file .json\n",
      "SDCC/kademlia-nft/data/node10: 145 file .json\n",
      "SDCC/kademlia-nft/data/node11: 98 file .json\n",
      "SDCC/kademlia-nft/data/node12: 0 file .json\n",
      "SDCC/kademlia-nft/data/node13: 0 file .json\n",
      "SDCC/kademlia-nft/data/node14: 0 file .json\n",
      "SDCC/kademlia-nft/data/node15: 0 file .json\n",
      "SDCC/kademlia-nft/data/node16: 0 file .json\n",
      "SDCC/kademlia-nft/data/node17: 0 file .json\n",
      "SDCC/kademlia-nft/data/node18: 0 file .json\n",
      "SDCC/kademlia-nft/data/node19: 0 file .json\n",
      "SDCC/kademlia-nft/data/node20: 0 file .json\n",
      "SDCC/kademlia-nft/data/node21: 0 file .json\n",
      "SDCC/kademlia-nft/data/node22: 0 file .json\n",
      "SDCC/kademlia-nft/data/node23: 0 file .json\n",
      "SDCC/kademlia-nft/data/node24: 0 file .json\n",
      "SDCC/kademlia-nft/data/node25: 0 file .json\n",
      "[138, 69, 88, 77, 145, 148, 148, 138, 145, 98]\n",
      "la somma è: 1194\n"
     ]
    },
    {
     "data": {
      "image/png": "[encoded data removed]",
      "text/plain": [
       "<Figure size 640x480 with 1 Axes>"
      ]
     },
     "metadata": {},
     "output_type": "display_data"
    }
   ],
   "source": [
    "from pathlib import Path\n",
    "base = Path(\"SDCC/kademlia-nft/data\")\n",
    "prefix = \"node\"\n",
    "start, end = 2, 25\n",
    "\n",
    "nfile=[]\n",
    "for t in range(start, end + 1):\n",
    "    folder = base / f\"{prefix}{t}\"    # togli \"/node\" se non serve\n",
    "    n_json = sum(1 for _ in folder.rglob(\"*.json\")) if folder.exists() else 0\n",
    "    nfile.append(n_json)\n",
    "    print(f\"{folder}: {n_json} file .json\")\n",
    "\n",
    "\n",
    "\n",
    "ct = 0\n",
    "for t in nfile:\n",
    "    if t == 0:\n",
    "        ct += 1\n",
    "if ct > 0:\n",
    "    del nfile[-ct:] \n",
    "print(nfile)\n",
    "\n",
    "print(\"la somma è:\", sum(nfile))\n",
    "\n",
    "plottIstogramma(nfile)"
   ]
  },
  {
   "cell_type": "code",
   "execution_count": 4,
   "id": "72b95001",
   "metadata": {},
   "outputs": [],
   "source": [
    "import matplotlib.pyplot as plt\n",
    "def plottIstogramma(vec, title=\"NFT PER 17 NODI\", xlabel=\"Numero di NFT\", ylabel=\"Frequenza\"):\n",
    "    plt.figure()\n",
    "    plt.bar(range(len(vec)), vec)          # bar plot verticale\n",
    "    plt.title(title)\n",
    "    plt.xlabel(xlabel)\n",
    "    plt.ylabel(ylabel)\n",
    "    plt.xticks(range(len(vec)))               # mostra gli indici sull'asse X\n",
    "    plt.show()"
   ]
  }
 ],
 "metadata": {
  "kernelspec": {
   "display_name": "Python 3 (ipykernel)",
   "language": "python",
   "name": "python3"
  },
  "language_info": {
   "codemirror_mode": {
    "name": "ipython",
    "version": 3
   },
   "file_extension": ".py",
   "mimetype": "text/x-python",
   "name": "python",
   "nbconvert_exporter": "python",
   "pygments_lexer": "ipython3",
   "version": "3.10.16"
  }
 },
 "nbformat": 4,
 "nbformat_minor": 5
}
